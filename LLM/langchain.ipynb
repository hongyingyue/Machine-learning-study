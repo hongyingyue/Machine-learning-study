{
 "cells": [
  {
   "cell_type": "markdown",
   "id": "e3236d60",
   "metadata": {},
   "source": [
    "[LangChain Official](https://python.langchain.com/docs/introduction/)"
   ]
  },
  {
   "cell_type": "markdown",
   "id": "855dc570",
   "metadata": {},
   "source": []
  }
 ],
 "metadata": {
  "language_info": {
   "name": "python"
  }
 },
 "nbformat": 4,
 "nbformat_minor": 5
}
