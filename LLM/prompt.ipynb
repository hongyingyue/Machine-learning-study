{
 "cells": [
  {
   "cell_type": "code",
   "execution_count": 14,
   "id": "2011f2ee",
   "metadata": {},
   "outputs": [],
   "source": [
    "# !pip install openai"
   ]
  },
  {
   "cell_type": "code",
   "execution_count": 1,
   "id": "ae65bcb1",
   "metadata": {},
   "outputs": [
    {
     "data": {
      "text/plain": [
       "True"
      ]
     },
     "execution_count": 1,
     "metadata": {},
     "output_type": "execute_result"
    }
   ],
   "source": [
    "from dotenv import load_dotenv\n",
    "import os\n",
    "\n",
    "load_dotenv()\n",
    "# print(os.environ.get(\"OPENAI_API_KEY\"))"
   ]
  },
  {
   "cell_type": "code",
   "execution_count": 3,
   "id": "512caf96",
   "metadata": {},
   "outputs": [],
   "source": [
    "from openai import OpenAI\n",
    "client = OpenAI()"
   ]
  },
  {
   "cell_type": "code",
   "execution_count": null,
   "id": "3e5f171b",
   "metadata": {},
   "outputs": [],
   "source": [
    "def get_completion(prompt, \n",
    "                   model=\"gpt-3.5-turbo\",\n",
    "                   temperature = 0):\n",
    "    messages = [{\"role\": \"user\", \"content\": prompt}]\n",
    "    response = client.chat.completions.create(\n",
    "        model = model,\n",
    "        messages = messages,\n",
    "        temperature = temperature\n",
    "    )\n",
    "    return response.choices[0].message.content"
   ]
  },
  {
   "cell_type": "code",
   "execution_count": 13,
   "id": "373c8f60",
   "metadata": {},
   "outputs": [
    {
     "data": {
      "text/plain": [
       "'so I quickly got ready and rushed out the door to make it to work on time. I grabbed a granola bar for breakfast on the go and made a mental note to set my alarm earlier tomorrow. Despite the rushed start, I managed to make it to work just in time for my first meeting of the day.'"
      ]
     },
     "execution_count": 13,
     "metadata": {},
     "output_type": "execute_result"
    }
   ],
   "source": [
    "get_completion('I got up late this morning, ')"
   ]
  },
  {
   "cell_type": "code",
   "execution_count": null,
   "id": "bf55b6b5",
   "metadata": {},
   "outputs": [],
   "source": [
    "def get_completion_from_messages(messages, \n",
    "                                model=\"gpt-3.5-turbo\",\n",
    "                                temperature = 0):\n",
    "    response = client.chat.completions.create(\n",
    "        model = model,\n",
    "        messages = messages,\n",
    "        temperature = temperature\n",
    "    )\n",
    "    return response.choices[0].message.content"
   ]
  },
  {
   "cell_type": "code",
   "execution_count": null,
   "id": "0bb9a22c",
   "metadata": {},
   "outputs": [],
   "source": [
    "messages = [\n",
    "    {'role': 'system', 'content': 'abc'},\n",
    "    {'role': 'user', 'content': 'xyz'},\n",
    "    {'role': 'assistant', 'content': 'xyz'},\n",
    "]"
   ]
  },
  {
   "cell_type": "code",
   "execution_count": null,
   "id": "5203e9d7",
   "metadata": {},
   "outputs": [],
   "source": [
    "def collect_messages(_):"
   ]
  },
  {
   "cell_type": "code",
   "execution_count": 9,
   "id": "d04e3ecc",
   "metadata": {},
   "outputs": [
    {
     "data": {
      "text/markdown": [
       "You said <span style='color:red;font-weight:700;text-decoration:line-through;'>that </span>you <span style='color:red;font-weight:700;text-decoration:line-through;'>will </span><span style='color:green;font-weight:700;'>would </span>go to <span style='color:red;font-weight:700;text-decoration:line-through;'>the </span>school yesterday."
      ],
      "text/plain": [
       "<IPython.core.display.Markdown object>"
      ]
     },
     "metadata": {},
     "output_type": "display_data"
    }
   ],
   "source": [
    "# find differences between two passages\n",
    "from redlines import Redlines\n",
    "from IPython.display import display, Markdown\n",
    "t1 = \"You said you would go to school yesterday.\"\n",
    "t2 = \"You said that you will go to the school yesterday.\"\n",
    "diff = Redlines(t2, t1)\n",
    "display(Markdown(diff.output_markdown))"
   ]
  },
  {
   "cell_type": "code",
   "execution_count": null,
   "id": "7dd9631e",
   "metadata": {},
   "outputs": [],
   "source": []
  }
 ],
 "metadata": {
  "kernelspec": {
   "display_name": "ml-venv",
   "language": "python",
   "name": "python3"
  },
  "language_info": {
   "codemirror_mode": {
    "name": "ipython",
    "version": 3
   },
   "file_extension": ".py",
   "mimetype": "text/x-python",
   "name": "python",
   "nbconvert_exporter": "python",
   "pygments_lexer": "ipython3",
   "version": "3.13.5"
  }
 },
 "nbformat": 4,
 "nbformat_minor": 5
}
