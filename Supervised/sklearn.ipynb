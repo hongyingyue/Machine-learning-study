{
 "cells": [
  {
   "cell_type": "markdown",
   "id": "6dd1c075",
   "metadata": {},
   "source": [
    "# sklearn package"
   ]
  },
  {
   "cell_type": "markdown",
   "id": "e89612cc",
   "metadata": {},
   "source": [
    "# 1. apply a LR model"
   ]
  },
  {
   "cell_type": "markdown",
   "id": "074dab15",
   "metadata": {},
   "source": [
    "# 2. apply a classification model\n",
    "- Logistic Regression\n",
    "- SVM"
   ]
  },
  {
   "cell_type": "markdown",
   "id": "8af4078c",
   "metadata": {},
   "source": []
  }
 ],
 "metadata": {
  "kernelspec": {
   "display_name": "ml-venv",
   "language": "python",
   "name": "python3"
  },
  "language_info": {
   "name": "python",
   "version": "3.13.3"
  }
 },
 "nbformat": 4,
 "nbformat_minor": 5
}
