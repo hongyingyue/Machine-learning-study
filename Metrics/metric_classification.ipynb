{
 "cells": [
  {
   "cell_type": "markdown",
   "id": "9aa9ed7d",
   "metadata": {},
   "source": [
    "## Confusion Matrix"
   ]
  },
  {
   "cell_type": "code",
   "execution_count": 8,
   "id": "c30be4ad",
   "metadata": {},
   "outputs": [
    {
     "data": {
      "image/png": "[encoded data removed]",
      "text/plain": [
       "<Figure size 640x480 with 2 Axes>"
      ]
     },
     "metadata": {},
     "output_type": "display_data"
    }
   ],
   "source": [
    "from sklearn.metrics import confusion_matrix, ConfusionMatrixDisplay\n",
    "import matplotlib.pyplot as plt\n",
    "\n",
    "# Example ground truth and predictions\n",
    "y_true = [0, 1, 0, 1, 1, 0, 0, 1, 1, 1]  # True labels\n",
    "y_pred = [0, 1, 0, 0, 1, 0, 1, 1, 1, 0]  # Predicted labels\n",
    "\n",
    "# Compute confusion matrix\n",
    "cm = confusion_matrix(y_true, y_pred)\n",
    "\n",
    "# Display it\n",
    "disp = ConfusionMatrixDisplay(confusion_matrix=cm)\n",
    "disp.plot(cmap=plt.cm.Oranges)\n",
    "plt.title(\"Confusion Matrix\")\n",
    "plt.show()"
   ]
  },
  {
   "cell_type": "markdown",
   "id": "e2b7c266",
   "metadata": {},
   "source": [
    "## Precision - Recall - Accuracy"
   ]
  },
  {
   "cell_type": "code",
   "execution_count": 9,
   "id": "84c27ece",
   "metadata": {},
   "outputs": [
    {
     "name": "stdout",
     "output_type": "stream",
     "text": [
      "Precision: 0.8\n",
      "Recall: 0.67\n",
      "Accuracy: 0.7\n"
     ]
    }
   ],
   "source": [
    "from sklearn.metrics import precision_score, recall_score, accuracy_score\n",
    "\n",
    "# Precision\n",
    "precision = precision_score(y_true, y_pred)\n",
    "print(\"Precision:\", round(precision, 2))\n",
    "\n",
    "# Recall\n",
    "recall = recall_score(y_true, y_pred)\n",
    "print(\"Recall:\", round(recall, 2))\n",
    "\n",
    "# Accuracy\n",
    "accuracy = accuracy_score(y_true, y_pred)\n",
    "print(\"Accuracy:\", round(accuracy, 2))"
   ]
  },
  {
   "cell_type": "markdown",
   "id": "7d7056b9",
   "metadata": {},
   "source": [
    "### precision-recall tradeoff\n",
    "We can achieve either by various means:\n",
    "- by assigning a higher weigh to the examples of a specific class. For example, SVM in scikit-learn accepts weights of classes as input;\n",
    "- by tuning hyperparameters to maximize either precision or recall on the validation set; \n",
    "- by varying the decision threshold for algorithms that return prediction scores. Let’s say we have a logistic regression model or a decision tree. To increase precision (at the cost of a lower recall), we can decide that the prediction will be positive only if the score returned by the model is higher than 0.9 (instead of the default value of 0.5).\n",
    "\n",
    "Scenario\n",
    "\n",
    "**Spam detection**: prioritize **high precision** ⬆️ to avoid misclassifying legitimate messages, even if it means accepting **lower recall** ⬇️ with some spam slipping through.\n",
    "- A false positive is when your friend sends you an email, but the model places it in the spam folder and you don’t see it. \n",
    "- A false negative, a situation in which a spam message gets to the inbox, is less of a problem."
   ]
  },
  {
   "cell_type": "markdown",
   "id": "225dfb7e",
   "metadata": {},
   "source": [
    "### accuracy\n",
    "**Accuracy** is a useful metric when errors in predicting all classes are judged to be equally important.\n",
    "\n",
    "For dealing with the situations in which different classes have different importance, a useful metric is **cost-sensitive accuracy**.\n",
    "- First, assign a cost (a positive number) to both types of mistakes: FP and FN. \n",
    "- Then compute the counts TP, TN, FP, FN as usual, and multiply the counts for FP and FN by their corresponding costs before calculating the accuracy.\n",
    "\n",
    "For imbalanced data, a better metric is **per-class accuracy**. \n",
    "- First, calculate the accuracy of prediction for each class {1, . . . , C }, and then take an average of C individual accuracy measures."
   ]
  },
  {
   "cell_type": "markdown",
   "id": "6554ca46",
   "metadata": {},
   "source": [
    "## ROC curve\n",
    "stands for “receiver operating characteristic”, the term comes from radar engineering"
   ]
  },
  {
   "cell_type": "code",
   "execution_count": null,
   "id": "e6dc6020",
   "metadata": {},
   "outputs": [],
   "source": []
  }
 ],
 "metadata": {
  "kernelspec": {
   "display_name": "ml-venv",
   "language": "python",
   "name": "python3"
  },
  "language_info": {
   "codemirror_mode": {
    "name": "ipython",
    "version": 3
   },
   "file_extension": ".py",
   "mimetype": "text/x-python",
   "name": "python",
   "nbconvert_exporter": "python",
   "pygments_lexer": "ipython3",
   "version": "3.13.3"
  }
 },
 "nbformat": 4,
 "nbformat_minor": 5
}
