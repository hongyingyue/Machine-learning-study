{
 "cells": [
  {
   "cell_type": "markdown",
   "id": "1484a174",
   "metadata": {},
   "source": [
    "## Plot an image"
   ]
  },
  {
   "cell_type": "code",
   "execution_count": null,
   "id": "558498a4",
   "metadata": {},
   "outputs": [
    {
     "data": {
      "image/png": "[encoded data removed]",
      "text/plain": [
       "<Figure size 200x200 with 1 Axes>"
      ]
     },
     "metadata": {},
     "output_type": "display_data"
    }
   ],
   "source": [
    "import numpy as np\n",
    "import matplotlib.pyplot as plt\n",
    "\n",
    "image = np.array([\n",
    "       [255, 255, 255, 255, 255, 255, 255, 255],\n",
    "       [255, 255, 255, 0, 255, 255, 255, 255],\n",
    "       [255, 255,   0, 0, 255, 255, 255, 255],\n",
    "       [255, 255, 255, 0, 255, 255, 255, 255],\n",
    "       [255, 255, 255, 0, 255, 255, 255, 255],\n",
    "       [255, 255, 255, 0, 255, 255, 255, 255],\n",
    "       [255, 255,   0, 0,   0, 255, 255, 255],\n",
    "       [255, 255, 255, 255, 255, 255, 255, 255]])\n",
    "\n",
    "# plt.figure(figsize=(2, 2))  # Set canvas size to 4x4 inches\n",
    "plt.figure(\n",
    "    figsize=(2, 2), \n",
    "    facecolor='lightgrey',\n",
    "    edgecolor='green' # only affects the border of the saved figure\n",
    "    )  # Set canvas background\n",
    "plt.imshow(image, cmap='gray')\n",
    "plt.axis('off')\n",
    "plt.show() # Alternative: use a ';' at the end of the last plt code\n"
   ]
  },
  {
   "cell_type": "code",
   "execution_count": null,
   "id": "a07a5034",
   "metadata": {},
   "outputs": [],
   "source": []
  }
 ],
 "metadata": {
  "kernelspec": {
   "display_name": "ml-venv",
   "language": "python",
   "name": "python3"
  },
  "language_info": {
   "codemirror_mode": {
    "name": "ipython",
    "version": 3
   },
   "file_extension": ".py",
   "mimetype": "text/x-python",
   "name": "python",
   "nbconvert_exporter": "python",
   "pygments_lexer": "ipython3",
   "version": "3.13.3"
  }
 },
 "nbformat": 4,
 "nbformat_minor": 5
}
