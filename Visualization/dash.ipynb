{
 "cells": [
  {
   "cell_type": "code",
   "execution_count": 1,
   "id": "cd64dca1",
   "metadata": {},
   "outputs": [
    {
     "data": {
      "text/html": [
       "\n",
       "        <iframe\n",
       "            width=\"100%\"\n",
       "            height=\"650\"\n",
       "            src=\"http://127.0.0.1:8050/\"\n",
       "            frameborder=\"0\"\n",
       "            allowfullscreen\n",
       "            \n",
       "        ></iframe>\n",
       "        "
      ],
      "text/plain": [
       "<IPython.lib.display.IFrame at 0x1099978c0>"
      ]
     },
     "metadata": {},
     "output_type": "display_data"
    }
   ],
   "source": [
    "import dash\n",
    "from dash import html, dcc\n",
    "import plotly.graph_objs as go\n",
    "\n",
    "# Sample data\n",
    "x = [1, 2, 3, 4, 5]\n",
    "y = [10, 15, 13, 17, 14]\n",
    "\n",
    "# Initialize the Dash app\n",
    "app = dash.Dash(__name__)\n",
    "\n",
    "# Define the layout\n",
    "app.layout = html.Div([\n",
    "    html.H1(\"Basic Line Chart\", style={'textAlign': 'center'}),\n",
    "\n",
    "    dcc.Graph(\n",
    "        id='line-chart',\n",
    "        figure={\n",
    "            'data': [\n",
    "                go.Scatter(x=x, y=y, mode='lines+markers', name='Sales')\n",
    "            ],\n",
    "            'layout': go.Layout(\n",
    "                title='Sales Over Time',\n",
    "                xaxis={'title': 'Day'},\n",
    "                yaxis={'title': 'Sales'},\n",
    "                hovermode='closest'\n",
    "            )\n",
    "        }\n",
    "    )\n",
    "])\n",
    "\n",
    "# Run the app\n",
    "if __name__ == '__main__':\n",
    "    app.run(debug=True)\n"
   ]
  },
  {
   "cell_type": "code",
   "execution_count": null,
   "id": "159dbd5b",
   "metadata": {},
   "outputs": [],
   "source": []
  }
 ],
 "metadata": {
  "kernelspec": {
   "display_name": "ml-venv",
   "language": "python",
   "name": "python3"
  },
  "language_info": {
   "codemirror_mode": {
    "name": "ipython",
    "version": 3
   },
   "file_extension": ".py",
   "mimetype": "text/x-python",
   "name": "python",
   "nbconvert_exporter": "python",
   "pygments_lexer": "ipython3",
   "version": "3.13.3"
  }
 },
 "nbformat": 4,
 "nbformat_minor": 5
}
