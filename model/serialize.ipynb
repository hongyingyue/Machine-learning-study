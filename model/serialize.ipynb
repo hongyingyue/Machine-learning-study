{
 "cells": [
  {
   "cell_type": "markdown",
   "id": "170b2ec3",
   "metadata": {},
   "source": [
    "This notebook demonstrates how to serialize and deserialize a simple Random Forest machine learning model in Python. \n",
    "\n",
    "We'll train a small Random Forest Classifier on synthetic data, then use the pickle module to save the trained model to a file and subsequently load it back into memory. \n",
    "\n",
    "This process is crucial for saving trained models for later use or deployment without needing to retrain them."
   ]
  },
  {
   "cell_type": "code",
   "execution_count": null,
   "id": "c0a356e7",
   "metadata": {},
   "outputs": [],
   "source": [
    "import numpy as np\n",
    "from sklearn.ensemble import RandomForestClassifier\n",
    "from sklearn.datasets import make_classification # For generating sample data\n",
    "import pickle"
   ]
  },
  {
   "cell_type": "markdown",
   "id": "fdb05ebf",
   "metadata": {},
   "source": [
    "## Demo model: RF"
   ]
  },
  {
   "cell_type": "code",
   "execution_count": 3,
   "id": "4867a8e2",
   "metadata": {},
   "outputs": [
    {
     "name": "stdout",
     "output_type": "stream",
     "text": [
      "[[-1.11178545 -0.94642978 -0.2414266   0.88093159]\n",
      " [-1.0712841   0.67208313 -0.11144277 -0.30342317]\n",
      " [ 1.45537816 -0.95408643  0.68775269  1.19964312]\n",
      " [ 1.57861845 -1.42768724 -0.61128957  1.21959898]\n",
      " [ 1.92879674  1.32640903  1.21800532 -0.43525432]]\n",
      "[0 0 1 1 1]\n",
      "Original Model Type: <class 'sklearn.ensemble._forest.RandomForestClassifier'>\n",
      "Original Model n_estimators: 10\n",
      "Original Model classes: [0 1]\n",
      "Prediction with original model for [[ 0.5  1.2 -0.3  0.8]]: [1]\n"
     ]
    }
   ],
   "source": [
    "# Generate synthetic data for classification\n",
    "# X: features, y: target variable\n",
    "X, y = make_classification(n_samples=100, n_features=4,\n",
    "                           n_informative=2, n_redundant=0,\n",
    "                           random_state=15)\n",
    "print(X[:5])\n",
    "print(y[:5])\n",
    "\n",
    "# Initialize a Random Forest Classifier\n",
    "# We'll keep it small for demonstration purposes\n",
    "model = RandomForestClassifier(n_estimators=10, random_state=15)\n",
    "\n",
    "# Train the model\n",
    "model.fit(X, y)\n",
    "\n",
    "print(f\"Original Model Type: {type(model)}\")\n",
    "print(f\"Original Model n_estimators: {model.n_estimators}\")\n",
    "print(f\"Original Model classes: {model.classes_}\")\n",
    "\n",
    "# Make a prediction with the original model to show it works\n",
    "sample_data = np.array([[0.5, 1.2, -0.3, 0.8]])\n",
    "prediction = model.predict(sample_data)\n",
    "print(f\"Prediction with original model for {sample_data}: {prediction}\")"
   ]
  },
  {
   "cell_type": "markdown",
   "id": "caeceffb",
   "metadata": {},
   "source": [
    "## Serialize (Pickle) the Model to a File"
   ]
  },
  {
   "cell_type": "code",
   "execution_count": 5,
   "id": "847edfa7",
   "metadata": {},
   "outputs": [
    {
     "name": "stdout",
     "output_type": "stream",
     "text": [
      "Random Forest model successfully serialized and saved to 'demo_rf_model.pkl'\n"
     ]
    }
   ],
   "source": [
    "# Define the filename for our pickled model\n",
    "model_filename = 'demo_rf_model.pkl'\n",
    "\n",
    "try:\n",
    "    with open(model_filename, 'wb') as file:\n",
    "        pickle.dump(model, file)\n",
    "    print(f\"Random Forest model successfully serialized and saved to '{model_filename}'\")\n",
    "except Exception as e:\n",
    "    print(f\"Error during pickling: {e}\")"
   ]
  },
  {
   "cell_type": "markdown",
   "id": "cd6309ef",
   "metadata": {},
   "source": [
    "## Deserialization (Unpickling) the Model from a File"
   ]
  },
  {
   "cell_type": "code",
   "execution_count": 6,
   "id": "7ffddd10",
   "metadata": {},
   "outputs": [
    {
     "name": "stdout",
     "output_type": "stream",
     "text": [
      "Random Forest model successfully deserialized from 'demo_rf_model.pkl'\n",
      "Loaded Model Type: <class 'sklearn.ensemble._forest.RandomForestClassifier'>\n",
      "Loaded Model n_estimators: 10\n",
      "Loaded Model classes: [0 1]\n",
      "Prediction with loaded model for [[ 0.5  1.2 -0.3  0.8]]: [1]\n",
      "Are predictions from original and loaded models identical? True\n"
     ]
    }
   ],
   "source": [
    "loaded_model = None\n",
    "try:\n",
    "    with open(model_filename, 'rb') as file:\n",
    "        loaded_model = pickle.load(file)\n",
    "    print(f\"Random Forest model successfully deserialized from '{model_filename}'\")\n",
    "\n",
    "    # Verify that the loaded model is indeed a RandomForestClassifier\n",
    "    print(f\"Loaded Model Type: {type(loaded_model)}\")\n",
    "    print(f\"Loaded Model n_estimators: {loaded_model.n_estimators}\")\n",
    "    print(f\"Loaded Model classes: {loaded_model.classes_}\")\n",
    "\n",
    "    # Make a prediction with the loaded model to confirm it works\n",
    "    loaded_prediction = loaded_model.predict(sample_data)\n",
    "    print(f\"Prediction with loaded model for {sample_data}: {loaded_prediction}\")\n",
    "\n",
    "    # Check if the predictions are identical\n",
    "    print(f\"Are predictions from original and loaded models identical? {np.array_equal(prediction, loaded_prediction)}\")\n",
    "\n",
    "except FileNotFoundError:\n",
    "    print(f\"Error: The model file '{model_filename}' was not found.\")\n",
    "except Exception as e:\n",
    "    print(f\"Error during unpickling: {e}\")"
   ]
  },
  {
   "cell_type": "code",
   "execution_count": 8,
   "id": "4eb1e3c6",
   "metadata": {},
   "outputs": [
    {
     "name": "stdout",
     "output_type": "stream",
     "text": [
      "Prediction with loaded model for [[-1.5  1.8 -0.1  0.3]]: [0]\n"
     ]
    }
   ],
   "source": [
    "# Make a prediction with the original model to show it works\n",
    "test_data = np.array([[-1.5, 1.8, -0.1, 0.3]])\n",
    "test_prediction = loaded_model.predict(test_data)\n",
    "print(f\"Prediction with loaded model for {test_data}: {test_prediction}\")"
   ]
  }
 ],
 "metadata": {
  "kernelspec": {
   "display_name": "ml-venv",
   "language": "python",
   "name": "python3"
  },
  "language_info": {
   "codemirror_mode": {
    "name": "ipython",
    "version": 3
   },
   "file_extension": ".py",
   "mimetype": "text/x-python",
   "name": "python",
   "nbconvert_exporter": "python",
   "pygments_lexer": "ipython3",
   "version": "3.13.3"
  }
 },
 "nbformat": 4,
 "nbformat_minor": 5
}
