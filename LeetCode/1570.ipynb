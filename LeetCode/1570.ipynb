{
 "cells": [
  {
   "cell_type": "markdown",
   "id": "3f7c5f0e",
   "metadata": {},
   "source": [
    "## 1570. Dot Product of Two Sparse Vectors\n",
    "Description\n",
    "\n",
    "Given two sparse vectors, compute their dot product.\n",
    "\n",
    "Implement class SparseVector:\n",
    "\n",
    "SparseVector(nums) Initializes the object with the vector nums\n",
    "dotProduct(vec) Compute the dot product between the instance of SparseVector and vec\n",
    "A sparse vector is a vector that has mostly zero values, you should store the sparse vector efficiently and compute the dot product between two SparseVector.\n",
    "\n",
    "Follow up: What if only one of the vectors is sparse?\n",
    "\n"
   ]
  },
  {
   "cell_type": "code",
   "execution_count": 2,
   "id": "0283478f",
   "metadata": {},
   "outputs": [],
   "source": [
    "nums1 = [1,0,0,2,3]\n",
    "nums2 = [0,3,0,4,0]"
   ]
  },
  {
   "cell_type": "code",
   "execution_count": 3,
   "id": "098189c9",
   "metadata": {},
   "outputs": [
    {
     "data": {
      "text/plain": [
       "8"
      ]
     },
     "execution_count": 3,
     "metadata": {},
     "output_type": "execute_result"
    }
   ],
   "source": [
    "n = len(nums1)\n",
    "\n",
    "ans = 0\n",
    "for i in range(n):\n",
    "    if nums1[i] and nums2[i]:\n",
    "        ans += nums1[i] * nums2[i]\n",
    "\n",
    "ans"
   ]
  },
  {
   "cell_type": "code",
   "execution_count": 4,
   "id": "ac41eab6",
   "metadata": {},
   "outputs": [
    {
     "name": "stdout",
     "output_type": "stream",
     "text": [
      "8\n"
     ]
    }
   ],
   "source": [
    "from typing import List\n",
    "\n",
    "class SparseVector:\n",
    "    def __init__(self, nums: List[int]):\n",
    "        # Store the non-zero elements with their indices as keys\n",
    "        self.non_zero_elements = {i: v for i, v in enumerate(nums) if v != 0}\n",
    "\n",
    "    # Return the dot product of two sparse vectors\n",
    "    def dotProduct(self, vec: \"SparseVector\") -> int:\n",
    "        # For efficiency, iterate through the smaller vector\n",
    "        smaller_vector, larger_vector = (self.non_zero_elements, vec.non_zero_elements) \\\n",
    "            if len(self.non_zero_elements) < len(vec.non_zero_elements) \\\n",
    "            else (vec.non_zero_elements, self.non_zero_elements)\n",
    "      \n",
    "        # Calculate the dot product by summing the product of the\n",
    "        # overlapping elements of the two sparse vectors\n",
    "        return sum(value * larger_vector.get(index, 0) for index, value in smaller_vector.items())\n",
    "\n",
    "# Example usage:\n",
    "v1 = SparseVector(nums1)\n",
    "v2 = SparseVector(nums2)\n",
    "ans = v1.dotProduct(v2)\n",
    "print(ans)"
   ]
  },
  {
   "cell_type": "code",
   "execution_count": null,
   "id": "44b68a17",
   "metadata": {},
   "outputs": [],
   "source": []
  }
 ],
 "metadata": {
  "kernelspec": {
   "display_name": "ml-venv",
   "language": "python",
   "name": "python3"
  },
  "language_info": {
   "codemirror_mode": {
    "name": "ipython",
    "version": 3
   },
   "file_extension": ".py",
   "mimetype": "text/x-python",
   "name": "python",
   "nbconvert_exporter": "python",
   "pygments_lexer": "ipython3",
   "version": "3.13.3"
  }
 },
 "nbformat": 4,
 "nbformat_minor": 5
}
