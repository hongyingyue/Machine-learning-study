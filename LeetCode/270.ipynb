{
 "cells": [
  {
   "cell_type": "markdown",
   "id": "411a9046",
   "metadata": {},
   "source": [
    "# 270. Closest Binary Search Tree Value\n",
    "Given a non-empty binary search tree and a target value, find the value in the BST that is closest to the target.\n",
    "\n",
    "Note:\n",
    "\n",
    "Given target value is a floating point.\n",
    "You are guaranteed to have only one unique value in the BST that is closest to the target."
   ]
  },
  {
   "cell_type": "markdown",
   "id": "5b95c022",
   "metadata": {},
   "source": []
  }
 ],
 "metadata": {
  "kernelspec": {
   "display_name": "ml-venv",
   "language": "python",
   "name": "python3"
  },
  "language_info": {
   "name": "python",
   "version": "3.13.5"
  }
 },
 "nbformat": 4,
 "nbformat_minor": 5
}
