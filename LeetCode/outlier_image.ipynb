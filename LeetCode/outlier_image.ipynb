{
 "cells": [
  {
   "cell_type": "code",
   "execution_count": 6,
   "id": "4ac76465",
   "metadata": {},
   "outputs": [],
   "source": [
    "from collections import Counter\n",
    "from math import inf"
   ]
  },
  {
   "cell_type": "code",
   "execution_count": 7,
   "id": "d924e639",
   "metadata": {},
   "outputs": [
    {
     "data": {
      "text/plain": [
       "'BANC'"
      ]
     },
     "execution_count": 7,
     "metadata": {},
     "output_type": "execute_result"
    }
   ],
   "source": [
    "class Solution:\n",
    "    def minWindow(self, s: str, t: str) -> str:\n",
    "        m = len(s)\n",
    "        n = len(t)\n",
    "\n",
    "        cnt = Counter()\n",
    "        for letter in t:\n",
    "            cnt[letter] -= 1\n",
    "\n",
    "        left = 0\n",
    "        ans = ''\n",
    "        length = inf\n",
    "        for right in range(len(s)):\n",
    "            if s[right] in t:\n",
    "                cnt[s[right]] += 1\n",
    "            \n",
    "            while all(val >= 0 for val in cnt.values()):\n",
    "                if right-left+1 < length:\n",
    "                    ans = s[left: right+1]\n",
    "                    length = right-left+1\n",
    "                if s[left] in t:    \n",
    "                    cnt[s[left]] -= 1   \n",
    "                left += 1\n",
    "        \n",
    "        return ans\n",
    "    \n",
    "result = Solution()\n",
    "result.minWindow('ADOBECODEBANC', 'ABC')"
   ]
  },
  {
   "cell_type": "code",
   "execution_count": null,
   "id": "bf1bf304",
   "metadata": {},
   "outputs": [
    {
     "data": {
      "text/plain": [
       "'BANC'"
      ]
     },
     "execution_count": 10,
     "metadata": {},
     "output_type": "execute_result"
    }
   ],
   "source": [
    "def x(a, b):\n",
    "    i, j = len(a), len(b)\n",
    "    \n",
    "    d = {c: -b.count(c) for c in set(b)}\n",
    "    \n",
    "    p = 0\n",
    "    q = ''\n",
    "    r = float('inf') \n",
    "    \n",
    "    for u in range(i):\n",
    "        if a[u] in d:\n",
    "            d[a[u]] += 1\n",
    "        # Check if all values are >= 0\n",
    "        while all(v >= 0 for v in d.values()):\n",
    "            if u - p + 1 < r:\n",
    "                q = a[p:u + 1]\n",
    "                r = u - p + 1\n",
    "            if a[p] in d:\n",
    "                d[a[p]] -= 1\n",
    "            p += 1\n",
    "    return q\n",
    "\n",
    "\n",
    "x('ADOBECODEBANC', 'ABC')"
   ]
  },
  {
   "cell_type": "code",
   "execution_count": null,
   "id": "502b8030",
   "metadata": {},
   "outputs": [],
   "source": []
  }
 ],
 "metadata": {
  "kernelspec": {
   "display_name": "ml-venv",
   "language": "python",
   "name": "python3"
  },
  "language_info": {
   "codemirror_mode": {
    "name": "ipython",
    "version": 3
   },
   "file_extension": ".py",
   "mimetype": "text/x-python",
   "name": "python",
   "nbconvert_exporter": "python",
   "pygments_lexer": "ipython3",
   "version": "3.13.3"
  }
 },
 "nbformat": 4,
 "nbformat_minor": 5
}
