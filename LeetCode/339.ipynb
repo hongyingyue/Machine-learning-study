{
 "cells": [
  {
   "cell_type": "markdown",
   "id": "74a3a5be",
   "metadata": {},
   "source": [
    "## 339. Nested List Weight Sum\n",
    "Description\n",
    "\n",
    "You are given a nested list of integers nestedList. Each element is either an integer or a list whose elements may also be integers or other lists.\n",
    "\n",
    "The depth of an integer is the number of lists that it is inside of. For example, the nested list [1,[2,2],[[3],2],1] has each integer's value set to its depth.\n",
    "\n",
    "Return the sum of each integer in nestedList multiplied by its depth."
   ]
  },
  {
   "cell_type": "code",
   "execution_count": 16,
   "id": "16809128",
   "metadata": {},
   "outputs": [],
   "source": [
    "nestedList = [[1,1],2,[1,1]]"
   ]
  },
  {
   "cell_type": "code",
   "execution_count": 23,
   "id": "c73e591f",
   "metadata": {},
   "outputs": [
    {
     "data": {
      "text/plain": [
       "10"
      ]
     },
     "execution_count": 23,
     "metadata": {},
     "output_type": "execute_result"
    }
   ],
   "source": [
    "def nlw_sum(lst):\n",
    "    stack = []\n",
    "    n = len(lst)\n",
    "    for i in range(n):\n",
    "        stack.append((lst[i], 1))  # (element, depth)\n",
    "\n",
    "    ans = 0\n",
    "    while stack:\n",
    "        cur, d = stack.pop(0)\n",
    "        if isinstance(cur, int):  # base case: integer\n",
    "            ans += cur * d\n",
    "        else:  # must be a nested list\n",
    "            for itm in cur:\n",
    "                stack.append((itm, d + 1))\n",
    "                \n",
    "    return ans\n",
    "\n",
    "\n",
    "nlw_sum(nestedList)"
   ]
  },
  {
   "cell_type": "code",
   "execution_count": null,
   "id": "083f8b00",
   "metadata": {},
   "outputs": [],
   "source": []
  }
 ],
 "metadata": {
  "kernelspec": {
   "display_name": "ml-venv",
   "language": "python",
   "name": "python3"
  },
  "language_info": {
   "codemirror_mode": {
    "name": "ipython",
    "version": 3
   },
   "file_extension": ".py",
   "mimetype": "text/x-python",
   "name": "python",
   "nbconvert_exporter": "python",
   "pygments_lexer": "ipython3",
   "version": "3.13.3"
  }
 },
 "nbformat": 4,
 "nbformat_minor": 5
}
