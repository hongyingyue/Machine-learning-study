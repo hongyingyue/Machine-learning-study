{
 "cells": [
  {
   "cell_type": "code",
   "execution_count": null,
   "id": "63f8296c",
   "metadata": {},
   "outputs": [],
   "source": [
    "@lru_cache(None)\n"
   ]
  },
  {
   "cell_type": "code",
   "execution_count": null,
   "id": "b3668537",
   "metadata": {},
   "outputs": [],
   "source": [
    "def dfs(target):\n",
    "    if not target: return 0\n",
    "    tCtr, res = Counter(target), inf\n",
    "    mn = min(tuple(tCtr), key= lambda x: tCtr[x] )\n",
    "\n",
    "    for sCtr in sCtrs: \n",
    "        if sCtr[mn] == 0: continue \n",
    "        nxt = dfs(''.join((tCtr-sCtr).elements()))\n",
    "        \n",
    "        if nxt != -1: res = min(res, 1 + nxt)\n",
    "    \n",
    "    return -1 if res == inf else res"
   ]
  },
  {
   "cell_type": "code",
   "execution_count": 12,
   "id": "4d6e9f48",
   "metadata": {},
   "outputs": [
    {
     "name": "stdout",
     "output_type": "stream",
     "text": [
      "Counter({'t': 3, 'h': 2, 'e': 1, 'a': 1, 'y': 1})\n"
     ]
    },
    {
     "data": {
      "text/plain": [
       "'e'"
      ]
     },
     "execution_count": 12,
     "metadata": {},
     "output_type": "execute_result"
    }
   ],
   "source": [
    "from collections import Counter\n",
    "target = 'thehatty'\n",
    "tCtr = Counter(target)\n",
    "print(tCtr)\n",
    "mn = min(tuple(tCtr), key= lambda x: tCtr[x] )\n",
    "mn"
   ]
  },
  {
   "cell_type": "code",
   "execution_count": 14,
   "id": "1b14e08e",
   "metadata": {},
   "outputs": [
    {
     "name": "stdout",
     "output_type": "stream",
     "text": [
      "Counter({'w': 1, 'i': 1, 't': 1, 'h': 1})\n",
      "Counter({'t': 2, 'h': 1, 'e': 1, 'a': 1, 'y': 1})\n",
      "t\n",
      "t\n",
      "h\n",
      "e\n",
      "a\n",
      "y\n",
      "theay\n"
     ]
    },
    {
     "data": {
      "text/plain": [
       "'ttheay'"
      ]
     },
     "execution_count": 14,
     "metadata": {},
     "output_type": "execute_result"
    }
   ],
   "source": [
    "sCtr = Counter('with')\n",
    "print(sCtr)\n",
    "print(tCtr-sCtr)\n",
    "\n",
    "for i in (tCtr-sCtr).elements():\n",
    "    print(i)\n",
    "print(''.join(tCtr-sCtr))\n",
    "''.join((tCtr-sCtr).elements())"
   ]
  },
  {
   "cell_type": "code",
   "execution_count": null,
   "id": "87458088",
   "metadata": {},
   "outputs": [],
   "source": []
  }
 ],
 "metadata": {
  "kernelspec": {
   "display_name": "ml-venv",
   "language": "python",
   "name": "python3"
  },
  "language_info": {
   "codemirror_mode": {
    "name": "ipython",
    "version": 3
   },
   "file_extension": ".py",
   "mimetype": "text/x-python",
   "name": "python",
   "nbconvert_exporter": "python",
   "pygments_lexer": "ipython3",
   "version": "3.13.3"
  }
 },
 "nbformat": 4,
 "nbformat_minor": 5
}
