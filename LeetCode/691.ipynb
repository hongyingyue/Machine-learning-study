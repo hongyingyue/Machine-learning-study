{
 "cells": [
  {
   "cell_type": "code",
   "execution_count": null,
   "id": "63f8296c",
   "metadata": {},
   "outputs": [],
   "source": [
    "@lru_cache(None)\n"
   ]
  },
  {
   "cell_type": "code",
   "execution_count": null,
   "id": "b3668537",
   "metadata": {},
   "outputs": [],
   "source": [
    "def dfs(target):\n",
    "    if not target: return 0\n",
    "    tCtr, res = Counter(target), inf\n",
    "    mn = min(tuple(tCtr), key= lambda x: tCtr[x] )\n",
    "\n",
    "    for sCtr in sCtrs: \n",
    "        if sCtr[mn] == 0: continue \n",
    "        nxt = dfs(''.join((tCtr-sCtr).elements()))\n",
    "        \n",
    "        if nxt != -1: res = min(res, 1 + nxt)\n",
    "    \n",
    "    return -1 if res == inf else res"
   ]
  },
  {
   "cell_type": "code",
   "execution_count": 4,
   "id": "4d6e9f48",
   "metadata": {},
   "outputs": [
    {
     "name": "stdout",
     "output_type": "stream",
     "text": [
      "Counter({'t': 2, 'h': 2, 'e': 1, 'a': 1})\n",
      "('t', 'h', 'e', 'a')\n"
     ]
    },
    {
     "data": {
      "text/plain": [
       "'e'"
      ]
     },
     "execution_count": 4,
     "metadata": {},
     "output_type": "execute_result"
    }
   ],
   "source": [
    "from collections import Counter\n",
    "target = 'thehat'\n",
    "tCtr = Counter(target)\n",
    "print(tCtr)\n",
    "print(tuple(tCtr))\n",
    "mn = min(tuple(tCtr), key= lambda x: tCtr[x] )\n",
    "mn"
   ]
  },
  {
   "cell_type": "code",
   "execution_count": 14,
   "id": "1b14e08e",
   "metadata": {},
   "outputs": [
    {
     "name": "stdout",
     "output_type": "stream",
     "text": [
      "Counter({'w': 1, 'i': 1, 't': 1, 'h': 1})\n",
      "Counter({'t': 2, 'h': 1, 'e': 1, 'a': 1, 'y': 1})\n",
      "t\n",
      "t\n",
      "h\n",
      "e\n",
      "a\n",
      "y\n",
      "theay\n"
     ]
    },
    {
     "data": {
      "text/plain": [
       "'ttheay'"
      ]
     },
     "execution_count": 14,
     "metadata": {},
     "output_type": "execute_result"
    }
   ],
   "source": [
    "sCtr = Counter('with')\n",
    "print(sCtr)\n",
    "print(tCtr-sCtr)\n",
    "\n",
    "for i in (tCtr-sCtr).elements():\n",
    "    print(i)\n",
    "print(''.join(tCtr-sCtr))\n",
    "''.join((tCtr-sCtr).elements())"
   ]
  },
  {
   "cell_type": "code",
   "execution_count": 10,
   "id": "87458088",
   "metadata": {},
   "outputs": [
    {
     "data": {
      "text/plain": [
       "[Counter({'w': 1, 'i': 1, 't': 1, 'h': 1}),\n",
       " Counter({'e': 2, 'x': 1, 'a': 1, 'm': 1, 'p': 1, 'l': 1}),\n",
       " Counter({'c': 2, 'e': 2, 's': 1, 'i': 1, 'n': 1})]"
      ]
     },
     "execution_count": 10,
     "metadata": {},
     "output_type": "execute_result"
    }
   ],
   "source": [
    "stickers = [\"with\",\"example\",\"science\"]\n",
    "list(filter(lambda s: bool(set(s) & set(target)), map(Counter, stickers)))\n",
    "# Keeps only those Counter objects whose character set intersects with set(target)"
   ]
  },
  {
   "cell_type": "code",
   "execution_count": 9,
   "id": "b190288c",
   "metadata": {},
   "outputs": [
    {
     "data": {
      "text/plain": [
       "[Counter({'w': 1, 'i': 1, 't': 1, 'h': 1}),\n",
       " Counter({'e': 2, 'x': 1, 'a': 1, 'm': 1, 'p': 1, 'l': 1}),\n",
       " Counter({'c': 2, 'e': 2, 's': 1, 'i': 1, 'n': 1})]"
      ]
     },
     "execution_count": 9,
     "metadata": {},
     "output_type": "execute_result"
    }
   ],
   "source": [
    "mapped = map(Counter, stickers)\n",
    "list(mapped)"
   ]
  },
  {
   "cell_type": "code",
   "execution_count": 14,
   "id": "7963727d",
   "metadata": {},
   "outputs": [
    {
     "data": {
      "text/plain": [
       "''"
      ]
     },
     "execution_count": 14,
     "metadata": {},
     "output_type": "execute_result"
    }
   ],
   "source": [
    "\"\".join(Counter(\"\").elements())"
   ]
  },
  {
   "cell_type": "code",
   "execution_count": 6,
   "id": "f16a924d",
   "metadata": {},
   "outputs": [
    {
     "data": {
      "text/plain": [
       "['a', 'e', 'h', 'h', 't', 't']"
      ]
     },
     "execution_count": 6,
     "metadata": {},
     "output_type": "execute_result"
    }
   ],
   "source": [
    "from collections import Counter\n",
    "target = 'thehat'\n",
    "tCtr = Counter(target)\n",
    "sorted(tCtr.elements())"
   ]
  },
  {
   "cell_type": "code",
   "execution_count": null,
   "id": "24c0afcc",
   "metadata": {},
   "outputs": [],
   "source": []
  }
 ],
 "metadata": {
  "kernelspec": {
   "display_name": "ml-venv",
   "language": "python",
   "name": "python3"
  },
  "language_info": {
   "codemirror_mode": {
    "name": "ipython",
    "version": 3
   },
   "file_extension": ".py",
   "mimetype": "text/x-python",
   "name": "python",
   "nbconvert_exporter": "python",
   "pygments_lexer": "ipython3",
   "version": "3.13.5"
  }
 },
 "nbformat": 4,
 "nbformat_minor": 5
}
