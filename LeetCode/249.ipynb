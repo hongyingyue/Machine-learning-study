{
 "cells": [
  {
   "cell_type": "markdown",
   "id": "f170db03",
   "metadata": {},
   "source": [
    "# 249. Group Shifted Strings\n",
    "Given a string, we can \"shift\" each of its letter to its successive letter, for example: \"abc\" -> \"bcd\". We can keep \"shifting\" which forms the sequence:\n",
    "\n",
    "\"abc\" -> \"bcd\" -> ... -> \"xyz\"\n",
    "\n",
    "Given a list of strings which contains only lowercase alphabets, group all strings that belong to the same shifting sequence.\n"
   ]
  },
  {
   "cell_type": "markdown",
   "id": "20f684de",
   "metadata": {},
   "source": [
    "**Example**:\n",
    "\n",
    "Input: [\"abc\", \"bcd\", \"acef\", \"xyz\", \"az\", \"ba\", \"a\", \"z\"],\n",
    "\n",
    "Output:\n",
    "[\n",
    "  [\"abc\",\"bcd\",\"xyz\"],\n",
    "  [\"az\",\"ba\"],\n",
    "  [\"acef\"],\n",
    "  [\"a\",\"z\"]\n",
    "]"
   ]
  },
  {
   "cell_type": "code",
   "execution_count": 2,
   "id": "d784c67f",
   "metadata": {},
   "outputs": [
    {
     "data": {
      "text/plain": [
       "97"
      ]
     },
     "execution_count": 2,
     "metadata": {},
     "output_type": "execute_result"
    }
   ],
   "source": [
    "# ACSII code\n",
    "ord(\"a\")"
   ]
  },
  {
   "cell_type": "code",
   "execution_count": 10,
   "id": "dc91b8c4",
   "metadata": {},
   "outputs": [
    {
     "name": "stdout",
     "output_type": "stream",
     "text": [
      "abcdefghijklmnopqrstuvwxyz\n",
      "97\n",
      "98\n",
      "99\n",
      "100\n",
      "101\n"
     ]
    }
   ],
   "source": [
    "import string\n",
    "\n",
    "lowercase_letters = string.ascii_lowercase\n",
    "print(lowercase_letters)\n",
    "\n",
    "for letter in lowercase_letters[:5]:\n",
    "    print(ord(letter))"
   ]
  },
  {
   "cell_type": "code",
   "execution_count": 8,
   "id": "794f257f",
   "metadata": {},
   "outputs": [
    {
     "data": {
      "text/plain": [
       "[['abc', 'bcd', 'xyz'], ['acef'], ['az', 'ba'], ['a', 'z']]"
      ]
     },
     "execution_count": 8,
     "metadata": {},
     "output_type": "execute_result"
    }
   ],
   "source": [
    "from collections import defaultdict\n",
    "\n",
    "def groupStrings(strings):\n",
    "    # A mapping from normalized string to the list of strings that match the pattern\n",
    "    normalized_to_group = defaultdict(list)\n",
    "    \n",
    "    # Iterate over every string in the input list\n",
    "    for s in strings:\n",
    "        # List to store normalized characters\n",
    "        normalized_chars = []\n",
    "\n",
    "        # Calculate the difference between the first character and 'a'\n",
    "        shift = ord(s[0]) - ord('a')\n",
    "\n",
    "        # Normalize each character in the string\n",
    "        for char in s:\n",
    "            normalized_char_code = ord(char) - shift\n",
    "\n",
    "            # Ensure the normalized character code wraps around if it goes below 'a'\n",
    "            if normalized_char_code < ord('a'):\n",
    "                normalized_char_code += 26\n",
    "\n",
    "            # Add the normalized character to the list\n",
    "            normalized_chars.append(chr(normalized_char_code))\n",
    "\n",
    "        # Create the normalized string from the list of normalized characters\n",
    "        normalized_string = ''.join(normalized_chars)\n",
    "\n",
    "        # Add the original string to the group corresponding to the normalized string\n",
    "        normalized_to_group[normalized_string].append(s)\n",
    "\n",
    "    # Return all groups as a list of lists\n",
    "    return list(normalized_to_group.values())\n",
    "\n",
    "\n",
    "strings =[\"abc\", \"bcd\", \"acef\", \"xyz\", \"az\", \"ba\", \"a\", \"z\"]\n",
    "groupStrings(strings)"
   ]
  },
  {
   "cell_type": "code",
   "execution_count": null,
   "id": "0d7a2c5d",
   "metadata": {},
   "outputs": [],
   "source": []
  }
 ],
 "metadata": {
  "kernelspec": {
   "display_name": "ml-venv",
   "language": "python",
   "name": "python3"
  },
  "language_info": {
   "codemirror_mode": {
    "name": "ipython",
    "version": 3
   },
   "file_extension": ".py",
   "mimetype": "text/x-python",
   "name": "python",
   "nbconvert_exporter": "python",
   "pygments_lexer": "ipython3",
   "version": "3.13.3"
  }
 },
 "nbformat": 4,
 "nbformat_minor": 5
}
