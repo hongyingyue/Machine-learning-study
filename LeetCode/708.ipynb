{
 "cells": [
  {
   "cell_type": "markdown",
   "id": "88db4be2",
   "metadata": {},
   "source": [
    "# 708. Insert into a Cyclic Sorted List\n",
    "Given a node from a cyclic linked list which is sorted in ascending order, write a function to insert a value into the list such that it remains a cyclic sorted list. The given node can be a reference to any single node in the list, and may not be necessarily the smallest value in the cyclic list.\n",
    "\n",
    "If there are multiple suitable places for insertion, you may choose any place to insert the new value. After the insertion, the cyclic list should remain sorted.\n",
    "\n",
    "If the list is empty (i.e., given node is null), you should create a new single cyclic list and return the reference to that single node. Otherwise, you should return the original given node.\n"
   ]
  },
  {
   "cell_type": "code",
   "execution_count": null,
   "id": "e8ffb8dc",
   "metadata": {},
   "outputs": [],
   "source": [
    "class Node:\n",
    "    def __init__(self, val=None, next=None):\n",
    "        self.val = val\n",
    "        self.next = next\n",
    "\n",
    "class Solution:\n",
    "    def insert(self, head: 'Optional[Node]', insertVal: int) -> 'Node':\n",
    "        # new node\n",
    "        new_node = Node(val=insertVal)\n",
    "        \n",
    "        # empty cyclic list\n",
    "        if not head:\n",
    "            new_node.next = new_node\n",
    "            return new_node\n",
    "        \n",
    "        # tranverse the linked list\n",
    "        pre = head\n",
    "        cur = head.next\n",
    "        while cur != head:\n",
    "            if (\n",
    "                pre.val <= insertVal <= cur.val or\n",
    "                (pre.val > cur.val and (insertVal >= pre.val or insertVal <= cur.val))\n",
    "            ):\n",
    "                break\n",
    "            pre = cur\n",
    "            cur = cur.next\n",
    "                \n",
    "        # insert new node\n",
    "        pre.next = new_node\n",
    "        new_node.next = cur\n",
    "        \n",
    "        return head\n",
    "    "
   ]
  }
 ],
 "metadata": {
  "kernelspec": {
   "display_name": "ml-venv",
   "language": "python",
   "name": "python3"
  },
  "language_info": {
   "name": "python",
   "version": "3.13.3"
  }
 },
 "nbformat": 4,
 "nbformat_minor": 5
}
