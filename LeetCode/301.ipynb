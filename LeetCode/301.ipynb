{
 "cells": [
  {
   "cell_type": "code",
   "execution_count": 4,
   "id": "687e25dd",
   "metadata": {},
   "outputs": [
    {
     "data": {
      "text/plain": [
       "['(a)()()', '(a())()']"
      ]
     },
     "execution_count": 4,
     "metadata": {},
     "output_type": "execute_result"
    }
   ],
   "source": [
    "s = \"(a)())()\"\n",
    "def removeInvalidParentheses(s: str):\n",
    "    def isValid(s):\n",
    "        i= 0\n",
    "        ctr = 0\n",
    "        while i<len(s):\n",
    "            if s[i]== '(':\n",
    "                ctr += 1\n",
    "            elif s[i] == \")\":\n",
    "                if ctr == 0:\n",
    "                    return False\n",
    "                ctr -= 1\n",
    "            \n",
    "            i +=1\n",
    "        \n",
    "        return ctr == 0\n",
    "\n",
    "    level ={s}\n",
    "    while True:\n",
    "        valid = list(filter(isValid, level))\n",
    "        if valid:\n",
    "            return valid\n",
    "        level = {s[:i] + s[i+1:] for i in range(len(s)) for s in level}\n",
    "    \n",
    "removeInvalidParentheses(s)"
   ]
  },
  {
   "cell_type": "code",
   "execution_count": 5,
   "id": "7780c75f",
   "metadata": {},
   "outputs": [],
   "source": [
    "level ={s}"
   ]
  },
  {
   "cell_type": "code",
   "execution_count": 10,
   "id": "39460876",
   "metadata": {},
   "outputs": [
    {
     "data": {
      "text/plain": [
       "['(a)()()', '(a())()']"
      ]
     },
     "execution_count": 10,
     "metadata": {},
     "output_type": "execute_result"
    }
   ],
   "source": [
    "list(filter(isValid, level))"
   ]
  },
  {
   "cell_type": "code",
   "execution_count": 8,
   "id": "4e172399",
   "metadata": {},
   "outputs": [],
   "source": [
    "level = {s[:i] + s[i+1:] for i in range(len(s)) for s in level}"
   ]
  },
  {
   "cell_type": "code",
   "execution_count": 9,
   "id": "abf2ad5d",
   "metadata": {},
   "outputs": [
    {
     "data": {
      "text/plain": [
       "{'()())()', '(a())()', '(a)()()', '(a)())(', '(a)()))', '(a)))()', 'a)())()'}"
      ]
     },
     "execution_count": 9,
     "metadata": {},
     "output_type": "execute_result"
    }
   ],
   "source": [
    "level"
   ]
  },
  {
   "cell_type": "code",
   "execution_count": 14,
   "id": "64374900",
   "metadata": {},
   "outputs": [
    {
     "data": {
      "text/plain": [
       "['(a)()()']"
      ]
     },
     "execution_count": 14,
     "metadata": {},
     "output_type": "execute_result"
    }
   ],
   "source": [
    "list(filter(isValid, ['(a)()()']))"
   ]
  },
  {
   "cell_type": "code",
   "execution_count": null,
   "id": "50c37c70",
   "metadata": {},
   "outputs": [],
   "source": [
    "\n",
    "def removeInvalidParentheses(self, s: str) -> List[str]:\n",
    "    # define when a combination of parenthesis is still valid\n",
    "    def valid(candidate):\n",
    "        counter = 0\n",
    "        for char in candidate:\n",
    "            if char == \"(\": counter += 1\n",
    "            elif char == \")\": counter -= 1\n",
    "            if counter < 0: return False\n",
    "        # balanced?\n",
    "        return counter == 0\n",
    "    # the actual BFS, we return the minimum of removals, so we stop as soon as we have something\n",
    "    res, frontier = set() , set([s])\n",
    "    while not res:\n",
    "        _next = set()\n",
    "        for candidate in frontier:\n",
    "            if valid(candidate): \n",
    "                res.add(candidate)\n",
    "                continue\n",
    "            # generate more candidates based on this candidate\n",
    "            for i, letter in enumerate(candidate):\n",
    "                # skip trash\n",
    "                if letter not in \"()\": \n",
    "                    continue\n",
    "                _next.add(candidate[:i] + candidate[i+1:])\n",
    "        frontier = _next\n",
    "    return res"
   ]
  }
 ],
 "metadata": {
  "kernelspec": {
   "display_name": "ml-venv",
   "language": "python",
   "name": "python3"
  },
  "language_info": {
   "codemirror_mode": {
    "name": "ipython",
    "version": 3
   },
   "file_extension": ".py",
   "mimetype": "text/x-python",
   "name": "python",
   "nbconvert_exporter": "python",
   "pygments_lexer": "ipython3",
   "version": "3.13.5"
  }
 },
 "nbformat": 4,
 "nbformat_minor": 5
}
